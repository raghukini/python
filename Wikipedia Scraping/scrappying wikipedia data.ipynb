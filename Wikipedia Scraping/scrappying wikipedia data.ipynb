{
 "cells": [
  {
   "cell_type": "code",
   "execution_count": 1,
   "metadata": {},
   "outputs": [],
   "source": [
    "import wikipedia as wiki"
   ]
  },
  {
   "cell_type": "code",
   "execution_count": 2,
   "metadata": {},
   "outputs": [
    {
     "name": "stdout",
     "output_type": "stream",
     "text": [
      "['CM Punk', 'John Cena', 'Mickey Gall', 'Money in the Bank ladder match', 'The Shield (professional wrestling)', 'Money in the Bank (2011)', 'Straight Edge Society', 'WrestleMania 29', 'Paul Heyman', 'John Laurinaitis']\n"
     ]
    }
   ],
   "source": [
    "print(wiki.search(\"CM Punk\"))"
   ]
  },
  {
   "cell_type": "code",
   "execution_count": 4,
   "metadata": {},
   "outputs": [
    {
     "name": "stdout",
     "output_type": "stream",
     "text": [
      "indian\n"
     ]
    }
   ],
   "source": [
    "print(wiki.suggest(\"india\"))"
   ]
  },
  {
   "cell_type": "code",
   "execution_count": 7,
   "metadata": {},
   "outputs": [
    {
     "name": "stdout",
     "output_type": "stream",
     "text": [
      "Jazz is a music genre that originated in the African-American communities of New Orleans, Louisiana, United States, in the late 19th and early 20th centuries, with its roots in blues and ragtime. Since the 1920s Jazz Age, it has been recognized as a major form of musical expression in traditional and popular music, linked by the common bonds of African-American and European-American musical parentage. Jazz is characterized by swing and blue notes, complex chords, call and response vocals, polyrhythms and improvisation. Jazz has roots in West African cultural and musical expression, and in African-American music traditions.As jazz spread around the world, it drew on national, regional, and local musical cultures, which gave rise to different styles. New Orleans jazz began in the early 1910s, combining earlier brass-band marches, French quadrilles, biguine, ragtime and blues with collective polyphonic improvisation. In the 1930s, heavily arranged dance-oriented swing big bands, Kansas City jazz, a hard-swinging, bluesy, improvisational style and gypsy jazz (a style that emphasized musette waltzes) were the prominent styles. Bebop emerged in the 1940s, shifting jazz from danceable popular music toward a more challenging \"musician's music\" which was played at faster tempos and used more chord-based improvisation. Cool jazz developed near the end of the 1940s, introducing calmer, smoother sounds and long, linear melodic lines.\n",
      "The mid-1950s saw the emergence of hard bop, which introduced influences from rhythm and blues, gospel, and blues, especially in the saxophone and piano playing. Modal jazz developed in the late 1950s, using the mode, or musical scale, as the basis of musical structure and improvisation, as did free jazz, which explored playing without regular meter, beat and formal structures. Jazz-rock fusion appeared in the late 1960s and early 1970s, combining jazz improvisation with rock music's rhythms, electric instruments, and highly amplified stage sound. In the early 1980s, a commercial form of jazz fusion called smooth jazz became successful, garnering significant radio airplay. Other styles and genres abound in the 2000s, such as Latin and Afro-Cuban jazz.\n"
     ]
    }
   ],
   "source": [
    "print(wiki.summary(\"Java\"))"
   ]
  },
  {
   "cell_type": "code",
   "execution_count": 9,
   "metadata": {},
   "outputs": [
    {
     "name": "stdout",
     "output_type": "stream",
     "text": [
      "ಜಾವಾ ಒಂದು ವಸ್ತು ಕೇಂದ್ರಿತ ಗಣಕಯಂತ್ರ ಕ್ರಮವಿಧಿ ರಚನಾ ಭಾಷೆ (ಆಬ್ಜೆಕ್ಟ್ ಒರಿಯಂಟೆಡ್ ಕಂಪ್ಯೂಟರ್ ಪ್ರೊಗ್ರಾಮಿಂಗ್ ಲ್ಯಾಂಗ್ವೇಜ್). ಈ ಭಾಷೆಯ ಪ್ರಥಮ ಆವೃತ್ತಿಯನ್ನು ೧೯೯೧ರಲ್ಲಿ ಸನ್ ಮೈಕ್ರೋಸಿಸ್ಟಮ್ಸ್‌ನ ಜೇಮ್ಸ್ ಗಾಸ್ಲಿಂಗ್ ಮತ್ತು ಅವರ ಸಹೋದ್ಯೋಗಿಗಳು ಹೊರತಂದರು.\n"
     ]
    }
   ],
   "source": [
    "wiki.set_lang(\"kn\")\n",
    "print(wiki.summary(\"Java\"))"
   ]
  },
  {
   "cell_type": "code",
   "execution_count": 13,
   "metadata": {},
   "outputs": [
    {
     "name": "stdout",
     "output_type": "stream",
     "text": [
      "Dhamaal\n"
     ]
    }
   ],
   "source": [
    "wiki.set_lang(\"en\")\n",
    "p = wiki.page(\"Dhamaal\")\n",
    "print(p.title)"
   ]
  },
  {
   "cell_type": "code",
   "execution_count": 14,
   "metadata": {},
   "outputs": [
    {
     "name": "stdout",
     "output_type": "stream",
     "text": [
      "https://en.wikipedia.org/wiki/Dhamaal\n"
     ]
    }
   ],
   "source": [
    "print(p.url)"
   ]
  },
  {
   "cell_type": "code",
   "execution_count": 15,
   "metadata": {},
   "outputs": [
    {
     "name": "stdout",
     "output_type": "stream",
     "text": [
      "Dhamaal ( English translation: Fun) is a 2007 Indian comedy film directed by Indra Kumar and produced by Ashok Thakeria. The film stars Sanjay Dutt, Ritesh Deshmukh, Arshad Warsi, Aashish Chaudhary and Javed Jaffrey in the lead roles while Asrani, Sanjay Mishra, Vijay Raaz, Manoj Pahwa, Tiku Talsania and Prem Chopra are featured in supporting roles. It is heavily inspired from the 2001 American comedy film Rat Race directed by Jerry Zucker. It is the first installment of the Dhamaal film series. The film was remade in Kannada as Mast Maja Maadi, with an opening sequence inspired by Warsi-starrer Golmaal: Fun Unlimited. It has now gained the status of a cult classic and is considered to be one of the best and most popular Hindi comedy movies.\n",
      "In 2011, the film spawned a sequel, under the title of Double Dhamaal, with the lead cast reprising their roles.A third reboot sequel, under the name Total Dhamaal was released in February 2019, with only Deshmukh, Warsi and Jaffrey returning with an entirely new cast and a fresh story, having no connections to Dhamaal and Double Dhamaal.\n",
      "\n",
      "\n",
      "== Plot ==\n",
      "Four good-for-nothing friends - Roy (Ritesh Deshmukh), Adi (Arshad Warsi), Boman (Aashish Chaudhary), and Manav (Javed Jaffrey) - are kicked out of their house by their landlady (Suhasini Mulay) for not paying their rents. Desperate to earn money, they devise up a plan. Adi tells Manav to steal a painting from the house. They decide to sell it to the son of the late Businessman Dwiwedi. However, Manav accidentally picks up a blank painting not knowing the reality. They humorously sell the painting for Rs.20,000 to Dwiwedi. They then pick up the original painting with the intention to sell it to Mr. Aggarwal, not knowing that he has been murdered. The case is handled by Inspector Kulkarni (Murli Sharma). He learns that before Mr. Aggrawal was murdered, he was speaking on the phone to somebody and he mentioned the words \"horse\" and \"grass.\" He interprets these words to be some code language. The four arrive at Agrawal's residence. Kulkarni demands to see the painting. Seeing the horse and grass on the painting, he immediately arrests them.\n",
      "While driving on the highway, Kulkarni frees the foursomes upon being informed that they are innocent. The four are overjoyed until they suddenly witness a car accident and encounter the dying driver, Don Bose (Prem Chopra). He tells them that he has hidden a treasure of 10 crore in the St. Sebastian garden in Goa under a big 'W'. He tells them to divide the money equally among themselves and then dies. They come across Inspector Kabir Nayak (Sanjay Dutt) who has been trying to arrest Bose for the past ten years. He tries to extract information from the four but in vain, and they escape from there and decide to travel to Goa. Desperate for his promotion, Kabir is determined to capture the four. All four friends steal Boman's car which belongs to his father Nari (Asrani), who loves his car more than his son and threw his son out after he damaged his car. The friends manage to steal their car but not before hitting Nari on the head and making him unconscious. Roy loses control of the car in a forest and hits it against a tree, breaking both headlights. They decide to spend the night in the car. The next day Kabir is transferred to Yavatmal for failing to capture Bose. Furious, he walks towards his table where Nari is waiting for him to file a complaint against his son for stealing his car. He gives Kabir the photos of Boman and his car. Meanwhile, all four come across a broken bridge which is the only way through the forest. They decide to jump the car but Boman is reluctant to do so. They manage to jump the car to the other side but it crashes and explodes.\n",
      "Kabir tracks the four down after discovering the destroyed car. He is able to learn the location of the treasure due to Manav's dumbness. He ties all four of them to a tree and sets off. However they manage to escape and it is revealed that Roy had actually cut the engine wires of Kabir's car so he must have not gone too far. They reach a dhaba and pretend to be detectives. They make the villagers and the dhaba owner believe that Kabir is Pasha, a dangerous gang leader and lures them to capture him for the reward would be Rs. 15 lakhs. Kabir defeats the villagers and he and the four arrive at a settlement - 60% would belong to the four and 40% would belong to Kabir. But Adi insists on having his and Manav's money in separate shares when they were planning to pay Boman as one share for damaging his car. Consequently, a fight ensues and is decided that whoever reaches the treasure first would take all the money.\n",
      "All four part ways and try to reach Goa as soon as possible. Roy encounters a dacoit Babu Bhai (Sanjay Mishra) and agree to divide the money among themselves provided they reach Goa as soon as possible. Boman also encounters his father. Though Nari initially wants to kill his son, he changes his mind after he learns about the ten crores. Adi and Manav travel together. Kabir nearly escapes death as he hangs off a cliff and is pushed to deal with some school children who were supposed to visit and perform at a charity event. Adi and Manav fail to hitch a ride to take them to Goa until they bump into Iyer, who irritates them throughout the journey by continuously extending his patronymic name while introducing himself. \n",
      "Nari and Boman find a private pilot but hilarious conditions cause the duo to fly in utter despair when the pilot abandons the steer and collapses into alcoholism while airline customer service provider D.K. Malik pushes them to near madness, failing to save himself, but they manage to reach Goa. Finally, as they together reach the garden, they mutually agree to find the treasure together before dividing it. Manav is able to locate four palm trees which make the shape of a 'W' when a crow defecates on Adi. But Kabir arrives there and tells them to divide the money against them to which all agree. They dig there and are able to find the money. But again a fight ensues over the payment for the damage of the car. All are enraged when Adi and Manav decide to pay the money as one unit but are separate units while taking money. The fight goes on during which Kabir takes all the money and runs. He tries to escape in a hot air balloon on a beach but finds it tied to a pole. He dives in an effort to cut the rope but is beaten up by the rest who pursue him. The balloon blows off shore and all are disheartened. \n",
      "Conditions change when the wind changes direction and the balloon again blows onshore. Night falls and they follow the balloon in a towing van. The balloon clashes against a pole and the bag falls down. All of them try to collect as much money as they can when suddenly some spot lights focus on them and a crowd cheers loudly behind them. Realizing that they are on a stage and the occasion is the charity event to be attended by the performing children who were with Kabir, they further learn about the pathetic condition of the orphaned kids who were to be honored through charity, and decide to donate the money to the orphans. At the end, the chief guest of the event - Commissioner M.I Chaturvedi, who is Kabir's boss, praises all of them, while also telling Kabir that he will receive his promotion and that there is no better of use of this money than giving it for a charitable cause.\n",
      "The film ends on a happy note conveying that the fate of the money was already decided. It never belonged to the four friends. They were just a medium which helped the money reach its true destination.\n",
      "\n",
      "\n",
      "== Cast ==\n",
      "Sanjay Dutt as Inspector Kabir Naik\n",
      "Riteish Deshmukh as Deshbandhu Roy / Fake Kabir Naik : Boman , Manav and Adi's Best - Friend.\n",
      "Arshad Warsi as Aditya \"Adi\" Shrivastav : Manav's Brother , Roy and Boman's Best - Friend.\n",
      "Aashish Chaudhary as Boman Contractor : Nari's Son , Adi , Manav and Roy's Best - Friend.\n",
      "Javed Jaffrey as Manav Shrivastav : Adi's Brother , Boman and Roy's Best - Friend.\n",
      "Prem Chopra as Bose\n",
      "Asrani as Nari Contractor, Boman's eccentric father\n",
      "Tiku Talsania as Commissioner M.I. Chaturvedi\n",
      "Vijay Raaz as Dev Kumar \" D.K.\" Malik\n",
      "Suhasini Mulay as the Landlady\n",
      "Sanjay Mishra as Terriost Babu Bhai a.k.a Atank ka Dusra Naam (Terror's second name) ; Roy's Friend.\n",
      "Murli Sharma as Inspector Kulkarni\n",
      "Vinay Apte as Prabhakarna SriPalaWardhana Atapattu Jayasuriya Laxmana ShivRamKrishna ShivaVenkata RajShekhara Srinivasana Trichipalli YekyaParampeel Parambatur Chinnaswami MutthuSwami Venugopala Iyer\n",
      "Vijay Patkar as Air Traffic Controller\n",
      "Rana Jung Bahadur as Kailash, the owner of the Dhaba\n",
      "Surendra Rajan as Orphanage man\n",
      "Ninad Kamat as Function Host\n",
      "Manoj Pahwa as Pilot Amyjot Randhawa\n",
      "Kiku Sharda as Constable\n",
      "D. Santosh as Encounter Cop\n",
      "Sahil Chauhan as Kid Himesh Reshammiya\n",
      "Kurush Deboo as Dwivedi's son (Victim of Conmen's Fraud Painting)\n",
      "Sanjay Swaraj as Samir Agarwal (Special Appearance)\n",
      "Karmveer Choudhary in Kaiash Da Dhaba\n",
      "Vaibhav Mathur as Dacoit's man\n",
      "Vishwajeet Soni as Bengali Car Driver\n",
      "Jayesh Thakkar as Taxi Driver\n",
      "\n",
      "\n",
      "== Soundtrack ==\n",
      "The film's soundtrack is composed by Adnan Sami with lyrics penned by Sameer. The songs, \"Dekho Dekho\" and \"Miss India Marthi Mujhpe\", were both known as the title song, since the main chorus of both the songs included the title \"Dhamaal\".\n",
      "\n",
      "\n",
      "=== Track listing ===\n",
      "All lyrics are written by Sameer; all music is composed by Adnan Sami.\n",
      "\n",
      "\n",
      "== Sequel ==\n",
      "A sequel named Double Dhamaal was released in 2011. The third film of the franchise was named Total Dhamaal and released in 2019. Both the films became huge box office hits.\n",
      "\n",
      "\n",
      "== References ==\n",
      "\n",
      "\n",
      "== External links ==\n",
      "Dhamaal at IMDb \n",
      "Dhamaal at Bollywood Hungama\n"
     ]
    }
   ],
   "source": [
    "print(p.content)"
   ]
  },
  {
   "cell_type": "code",
   "execution_count": 16,
   "metadata": {},
   "outputs": [
    {
     "name": "stdout",
     "output_type": "stream",
     "text": [
      "['Aashiq (2001 film)', 'Aashish Chaudhary', 'Adnan Sami', 'Ajay Devgn', 'Amit Kumar (singer)', 'Arshad Warsi', 'Asha Bhosle', 'Ashish Chaudhary', 'Asrani', 'Beta (film)', 'Big Music', 'Bollywood Hungama', 'Box Office India', 'Comedy film', 'D. Santosh', 'Dhaba', 'Dhamaal (disambiguation)', 'Dhamaal (film series)', 'Dil (1990 film)', 'Double Dhamaal', 'Film soundtrack', 'Goa', 'Golmaal: Fun Unlimited', 'Grand Masti', 'Great Grand Masti', 'Hindi language', 'IMDb', 'Indra Kumar', 'Ishq (1997 film)', 'Javed Jaffrey', 'Karmveer Choudhary', 'Kiku Sharda', 'Kurush Deboo', 'Mann (film)', 'Manoj Pahwa', 'Mast Maja Maadi', 'Masti (2004 film)', 'Murli Sharma', 'Music genre', 'Navin Prabhakar', 'Ninad Kamat', 'Paritosh Painter', 'Prem Chopra', 'Pyare Mohan', 'Raghav Sachar', 'Raja (1995 film)', 'Rat Race (film)', 'Record label', 'Reliance Entertainment', 'Rishtey (film)', 'Riteish Deshmukh', 'Ritesh Deshmukh', 'Sameer (lyricist)', 'Sanjay Dutt', 'Sanjay Mishra (actor)', 'Sanjoy Chowdhury', 'Shaan (singer)', 'Soundtrack album', 'Suhasini Mulay', 'Super Nani', 'Tiku Talsania', 'Total Dhamaal', 'Tushar Hiranandani', 'Vijay Patkar', 'Vijay Raaz', 'Vinay Apte', 'Yavatmal']\n"
     ]
    }
   ],
   "source": [
    "print(p.links)"
   ]
  },
  {
   "cell_type": "code",
   "execution_count": null,
   "metadata": {},
   "outputs": [],
   "source": []
  }
 ],
 "metadata": {
  "kernelspec": {
   "display_name": "Python 3",
   "language": "python",
   "name": "python3"
  },
  "language_info": {
   "codemirror_mode": {
    "name": "ipython",
    "version": 3
   },
   "file_extension": ".py",
   "mimetype": "text/x-python",
   "name": "python",
   "nbconvert_exporter": "python",
   "pygments_lexer": "ipython3",
   "version": "3.8.3"
  }
 },
 "nbformat": 4,
 "nbformat_minor": 4
}
